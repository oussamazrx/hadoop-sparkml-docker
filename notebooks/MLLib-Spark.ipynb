{
 "cells": [
  {
   "cell_type": "code",
   "execution_count": 1,
   "id": "e4c46dd5-4b03-425e-8e8a-17fc360049b9",
   "metadata": {},
   "outputs": [],
   "source": [
    "from pyspark.sql import SparkSession\n",
    "from pyspark.sql.functions import col, count, when\n",
    "from pyspark.ml.feature import VectorAssembler, StandardScaler, StringIndexer\n",
    "from pyspark.ml.classification import (LogisticRegression, DecisionTreeClassifier, \n",
    "                                       RandomForestClassifier, GBTClassifier, NaiveBayes)\n",
    "from pyspark.ml.evaluation import BinaryClassificationEvaluator, MulticlassClassificationEvaluator\n",
    "from pyspark.ml.tuning import CrossValidator, ParamGridBuilder"
   ]
  },
  {
   "cell_type": "code",
   "execution_count": 4,
   "id": "e8648acc-1c84-4bed-8348-0475416e31f0",
   "metadata": {},
   "outputs": [],
   "source": [
    "# Step 1: Initialize Spark Session\n",
    "spark = SparkSession.builder \\\n",
    "    .appName(\"Fraud Detection with Spark MLlib\") \\\n",
    "    .config(\"spark.master\", \"spark://spark-master:7077\") \\\n",
    "    .getOrCreate()\n"
   ]
  },
  {
   "cell_type": "code",
   "execution_count": 12,
   "id": "35194d2e-33a9-4b06-b2fb-e7180a6274f5",
   "metadata": {},
   "outputs": [
    {
     "name": "stdout",
     "output_type": "stream",
     "text": [
      "+----+--------+--------+-----------+-------------+--------------+-----------+--------------+--------------+-------+--------------+\n",
      "|step|    type|  amount|   nameOrig|oldbalanceOrg|newbalanceOrig|   nameDest|oldbalanceDest|newbalanceDest|isFraud|isFlaggedFraud|\n",
      "+----+--------+--------+-----------+-------------+--------------+-----------+--------------+--------------+-------+--------------+\n",
      "|   1| PAYMENT| 9839.64|C1231006815|     170136.0|     160296.36|M1979787155|           0.0|           0.0|      0|             0|\n",
      "|   1| PAYMENT| 1864.28|C1666544295|      21249.0|      19384.72|M2044282225|           0.0|           0.0|      0|             0|\n",
      "|   1|TRANSFER|   181.0|C1305486145|        181.0|           0.0| C553264065|           0.0|           0.0|      1|             0|\n",
      "|   1|CASH_OUT|   181.0| C840083671|        181.0|           0.0|  C38997010|       21182.0|           0.0|      1|             0|\n",
      "|   1| PAYMENT|11668.14|C2048537720|      41554.0|      29885.86|M1230701703|           0.0|           0.0|      0|             0|\n",
      "+----+--------+--------+-----------+-------------+--------------+-----------+--------------+--------------+-------+--------------+\n",
      "only showing top 5 rows\n",
      "\n"
     ]
    }
   ],
   "source": [
    "# Step 2: Load Dataset from HDFS\n",
    "data_path = \"hdfs://namenode:9000/user/data/fraud.csv\"\n",
    "df = spark.read.csv(data_path, header=True, inferSchema=True)\n",
    "df.show(5)"
   ]
  },
  {
   "cell_type": "code",
   "execution_count": 6,
   "id": "2454c89d-5850-4173-b398-9c0fb6f06af1",
   "metadata": {},
   "outputs": [],
   "source": [
    "# Data preprocessing\n",
    "# Handle missing values\n",
    "#data = data.na.drop()"
   ]
  },
  {
   "cell_type": "code",
   "execution_count": 7,
   "id": "03dfed29-49a8-4f88-a7a6-b2d1e7d66f57",
   "metadata": {},
   "outputs": [
    {
     "name": "stdout",
     "output_type": "stream",
     "text": [
      "+----+----+------+--------+-------------+--------------+--------+--------------+--------------+-------+--------------+\n",
      "|step|type|amount|nameOrig|oldbalanceOrg|newbalanceOrig|nameDest|oldbalanceDest|newbalanceDest|isFraud|isFlaggedFraud|\n",
      "+----+----+------+--------+-------------+--------------+--------+--------------+--------------+-------+--------------+\n",
      "| 0.0| 0.0|   0.0|     0.0|          0.0|           0.0|     0.0|           0.0|           0.0|    0.0|           0.0|\n",
      "+----+----+------+--------+-------------+--------------+--------+--------------+--------------+-------+--------------+\n",
      "\n"
     ]
    }
   ],
   "source": [
    "# EDA: Check for missing values\n",
    "# missing_counts = data.select([(count(when(col(c).isNull(), c)) / count(\"*\")).alias(c) for c in data.columns])\n",
    "# missing_counts.show()"
   ]
  },
  {
   "cell_type": "code",
   "execution_count": 13,
   "id": "f4698cc6-e4dd-424b-82d6-3e8eb9379a54",
   "metadata": {},
   "outputs": [
    {
     "name": "stdout",
     "output_type": "stream",
     "text": [
      "The data contain 6362620 records.\n"
     ]
    }
   ],
   "source": [
    "print(\"The data contain %d records.\" % df.count())"
   ]
  },
  {
   "cell_type": "code",
   "execution_count": 14,
   "id": "baa5e61a-c747-4dae-949b-5e44d868b105",
   "metadata": {},
   "outputs": [
    {
     "name": "stdout",
     "output_type": "stream",
     "text": [
      "The data contain 11 columns.\n"
     ]
    }
   ],
   "source": [
    "print(\"The data contain %d columns.\" % len(df.columns))"
   ]
  },
  {
   "cell_type": "markdown",
   "id": "815738f8-e5dc-49f9-aa3a-ca941d576bbb",
   "metadata": {},
   "source": [
    "# Data Pre-processing "
   ]
  },
  {
   "cell_type": "code",
   "execution_count": 15,
   "id": "9e7fa53f-bd4a-4a82-89b2-92c436c46ed9",
   "metadata": {},
   "outputs": [
    {
     "name": "stdout",
     "output_type": "stream",
     "text": [
      "+----+----+------+--------+-------------+--------------+--------+--------------+--------------+-------+--------------+\n",
      "|step|type|amount|nameOrig|oldbalanceOrg|newbalanceOrig|nameDest|oldbalanceDest|newbalanceDest|isFraud|isFlaggedFraud|\n",
      "+----+----+------+--------+-------------+--------------+--------+--------------+--------------+-------+--------------+\n",
      "|   0|   0|     0|       0|            0|             0|       0|             0|             0|      0|             0|\n",
      "+----+----+------+--------+-------------+--------------+--------+--------------+--------------+-------+--------------+\n",
      "\n"
     ]
    }
   ],
   "source": [
    "### Get count of nan or missing values\n",
    "from pyspark.sql.functions import isnan, when, count, col\n",
    "\n",
    "df.select([count(when(isnan(c), c)).alias(c) for c in df.columns]).show()"
   ]
  },
  {
   "cell_type": "markdown",
   "id": "de171e5c-b103-49d8-a3c2-908762df3f25",
   "metadata": {},
   "source": [
    "### Observations:\n",
    "\n",
    "This dataset is clean, no missing values."
   ]
  },
  {
   "cell_type": "code",
   "execution_count": 16,
   "id": "042eadee-9937-4cb6-870d-9f6e2c0fc2a0",
   "metadata": {},
   "outputs": [
    {
     "name": "stdout",
     "output_type": "stream",
     "text": [
      "root\n",
      " |-- step: integer (nullable = true)\n",
      " |-- type: string (nullable = true)\n",
      " |-- amount: double (nullable = true)\n",
      " |-- nameOrig: string (nullable = true)\n",
      " |-- oldbalanceOrg: double (nullable = true)\n",
      " |-- newbalanceOrig: double (nullable = true)\n",
      " |-- nameDest: string (nullable = true)\n",
      " |-- oldbalanceDest: double (nullable = true)\n",
      " |-- newbalanceDest: double (nullable = true)\n",
      " |-- isFraud: integer (nullable = true)\n",
      " |-- isFlaggedFraud: integer (nullable = true)\n",
      "\n"
     ]
    }
   ],
   "source": [
    "# Schema of the data\n",
    "df.printSchema()"
   ]
  },
  {
   "cell_type": "code",
   "execution_count": 17,
   "id": "8622bd3f-f40b-435c-a924-15b6c600e75c",
   "metadata": {},
   "outputs": [],
   "source": [
    "from pyspark.sql.types import DoubleType\n",
    "\n",
    "df = df.withColumn(\"step\", df.step.cast(DoubleType()))\n",
    "df = df.withColumn(\"amount\", df.amount.cast(DoubleType()))\n",
    "df = df.withColumn(\"oldbalanceOrg\", df.oldbalanceOrg.cast(DoubleType()))\n",
    "df = df.withColumn(\"newbalanceOrig\", df.newbalanceOrig.cast(DoubleType()))\n",
    "df = df.withColumn(\"oldbalanceDest\", df.oldbalanceDest.cast(DoubleType()))\n",
    "df = df.withColumn(\"newbalanceDest\", df.newbalanceDest.cast(DoubleType()))\n",
    "df = df.withColumn(\"isFraud\", df.isFraud.cast('int'))"
   ]
  },
  {
   "cell_type": "code",
   "execution_count": 18,
   "id": "1c621303-573b-44fa-9a33-b29a6093ed1a",
   "metadata": {},
   "outputs": [
    {
     "data": {
      "text/plain": [
       "[('step', 'double'),\n",
       " ('type', 'string'),\n",
       " ('amount', 'double'),\n",
       " ('nameOrig', 'string'),\n",
       " ('oldbalanceOrg', 'double'),\n",
       " ('newbalanceOrig', 'double'),\n",
       " ('nameDest', 'string'),\n",
       " ('oldbalanceDest', 'double'),\n",
       " ('newbalanceDest', 'double'),\n",
       " ('isFraud', 'int'),\n",
       " ('isFlaggedFraud', 'int')]"
      ]
     },
     "execution_count": 18,
     "metadata": {},
     "output_type": "execute_result"
    }
   ],
   "source": [
    "# Check column data types\n",
    "df.dtypes"
   ]
  },
  {
   "cell_type": "code",
   "execution_count": 19,
   "id": "c09354b9-0892-48fc-b964-1ce2ff10aabb",
   "metadata": {},
   "outputs": [],
   "source": [
    "df = df.drop('isFlaggedFraud')"
   ]
  },
  {
   "cell_type": "code",
   "execution_count": 20,
   "id": "e93e464e-3ba1-401b-8078-4c017948a1ef",
   "metadata": {},
   "outputs": [],
   "source": [
    "# Input variables : step, type, amount, nameOrig, oldbalanceOrg, newbalanceOrig, nameDest, oldbalanceDest, newbalanceDest\n",
    "# Output Variable : isFraud"
   ]
  },
  {
   "cell_type": "markdown",
   "id": "aaa546ad-b30a-4b6c-965a-ff29ead1b843",
   "metadata": {},
   "source": [
    "# EDA : Feature Engineering\r\n",
    "\r\n"
   ]
  },
  {
   "cell_type": "code",
   "execution_count": 21,
   "id": "60efc18a-13d7-480b-8648-4d441757e6fb",
   "metadata": {},
   "outputs": [
    {
     "name": "stdout",
     "output_type": "stream",
     "text": [
      "+-------+------------------+--------+-----------------+-----------+------------------+------------------+-----------+------------------+------------------+--------------------+\n",
      "|summary|              step|    type|           amount|   nameOrig|     oldbalanceOrg|    newbalanceOrig|   nameDest|    oldbalanceDest|    newbalanceDest|             isFraud|\n",
      "+-------+------------------+--------+-----------------+-----------+------------------+------------------+-----------+------------------+------------------+--------------------+\n",
      "|  count|           6362620| 6362620|          6362620|    6362620|           6362620|           6362620|    6362620|           6362620|           6362620|             6362620|\n",
      "|   mean|243.39724563151657|    NULL|179861.9035491287|       NULL| 833883.1040744762| 855113.6685785811|       NULL| 1100701.666519653|1224996.3982019224|0.001290820448180152|\n",
      "| stddev|142.33197104913063|    NULL|603858.2314629209|       NULL|2888242.6730375267|2924048.5029542595|       NULL|3399180.1129944525|3674128.9421196915|0.035904796801604424|\n",
      "|    min|               1.0| CASH_IN|              0.0|C1000000639|               0.0|               0.0|C1000004082|               0.0|               0.0|                   0|\n",
      "|    max|             743.0|TRANSFER|    9.244551664E7| C999999784|     5.958504037E7|     4.958504037E7| M999999784|    3.5601588935E8|    3.5617927892E8|                   1|\n",
      "+-------+------------------+--------+-----------------+-----------+------------------+------------------+-----------+------------------+------------------+--------------------+\n",
      "\n"
     ]
    }
   ],
   "source": [
    "df.describe().show()"
   ]
  },
  {
   "cell_type": "code",
   "execution_count": 22,
   "id": "4ce88d64-145c-46e2-a6cc-7e7ca60a8773",
   "metadata": {},
   "outputs": [
    {
     "data": {
      "text/html": [
       "<div>\n",
       "<style scoped>\n",
       "    .dataframe tbody tr th:only-of-type {\n",
       "        vertical-align: middle;\n",
       "    }\n",
       "\n",
       "    .dataframe tbody tr th {\n",
       "        vertical-align: top;\n",
       "    }\n",
       "\n",
       "    .dataframe thead th {\n",
       "        text-align: right;\n",
       "    }\n",
       "</style>\n",
       "<table border=\"1\" class=\"dataframe\">\n",
       "  <thead>\n",
       "    <tr style=\"text-align: right;\">\n",
       "      <th></th>\n",
       "      <th>summary</th>\n",
       "      <th>step</th>\n",
       "      <th>amount</th>\n",
       "      <th>oldbalanceOrg</th>\n",
       "      <th>newbalanceOrig</th>\n",
       "      <th>oldbalanceDest</th>\n",
       "      <th>newbalanceDest</th>\n",
       "      <th>isFraud</th>\n",
       "    </tr>\n",
       "  </thead>\n",
       "  <tbody>\n",
       "    <tr>\n",
       "      <th>0</th>\n",
       "      <td>count</td>\n",
       "      <td>6362620</td>\n",
       "      <td>6362620</td>\n",
       "      <td>6362620</td>\n",
       "      <td>6362620</td>\n",
       "      <td>6362620</td>\n",
       "      <td>6362620</td>\n",
       "      <td>6362620</td>\n",
       "    </tr>\n",
       "    <tr>\n",
       "      <th>1</th>\n",
       "      <td>mean</td>\n",
       "      <td>243.39724563151657</td>\n",
       "      <td>179861.9035491287</td>\n",
       "      <td>833883.1040744762</td>\n",
       "      <td>855113.6685785811</td>\n",
       "      <td>1100701.6665196535</td>\n",
       "      <td>1224996.3982019224</td>\n",
       "      <td>0.001290820448180152</td>\n",
       "    </tr>\n",
       "    <tr>\n",
       "      <th>2</th>\n",
       "      <td>stddev</td>\n",
       "      <td>142.33197104913066</td>\n",
       "      <td>603858.2314629209</td>\n",
       "      <td>2888242.6730375267</td>\n",
       "      <td>2924048.502954259</td>\n",
       "      <td>3399180.1129944525</td>\n",
       "      <td>3674128.9421196915</td>\n",
       "      <td>0.035904796801604424</td>\n",
       "    </tr>\n",
       "    <tr>\n",
       "      <th>3</th>\n",
       "      <td>min</td>\n",
       "      <td>1.0</td>\n",
       "      <td>0.0</td>\n",
       "      <td>0.0</td>\n",
       "      <td>0.0</td>\n",
       "      <td>0.0</td>\n",
       "      <td>0.0</td>\n",
       "      <td>0</td>\n",
       "    </tr>\n",
       "    <tr>\n",
       "      <th>4</th>\n",
       "      <td>max</td>\n",
       "      <td>743.0</td>\n",
       "      <td>9.244551664E7</td>\n",
       "      <td>5.958504037E7</td>\n",
       "      <td>4.958504037E7</td>\n",
       "      <td>3.5601588935E8</td>\n",
       "      <td>3.5617927892E8</td>\n",
       "      <td>1</td>\n",
       "    </tr>\n",
       "  </tbody>\n",
       "</table>\n",
       "</div>"
      ],
      "text/plain": [
       "  summary                step             amount       oldbalanceOrg  \\\n",
       "0   count             6362620            6362620             6362620   \n",
       "1    mean  243.39724563151657  179861.9035491287   833883.1040744762   \n",
       "2  stddev  142.33197104913066  603858.2314629209  2888242.6730375267   \n",
       "3     min                 1.0                0.0                 0.0   \n",
       "4     max               743.0      9.244551664E7       5.958504037E7   \n",
       "\n",
       "      newbalanceOrig      oldbalanceDest      newbalanceDest  \\\n",
       "0            6362620             6362620             6362620   \n",
       "1  855113.6685785811  1100701.6665196535  1224996.3982019224   \n",
       "2  2924048.502954259  3399180.1129944525  3674128.9421196915   \n",
       "3                0.0                 0.0                 0.0   \n",
       "4      4.958504037E7      3.5601588935E8      3.5617927892E8   \n",
       "\n",
       "                isFraud  \n",
       "0               6362620  \n",
       "1  0.001290820448180152  \n",
       "2  0.035904796801604424  \n",
       "3                     0  \n",
       "4                     1  "
      ]
     },
     "execution_count": 22,
     "metadata": {},
     "output_type": "execute_result"
    }
   ],
   "source": [
    "numeric_features = [t[0] for t in df.dtypes if t[1] == 'double' or t[1]=='int']\n",
    "df.select(numeric_features).describe().toPandas()"
   ]
  },
  {
   "cell_type": "code",
   "execution_count": 23,
   "id": "86101634-d2ef-4f7e-bfc7-17c3097407b2",
   "metadata": {},
   "outputs": [
    {
     "name": "stdout",
     "output_type": "stream",
     "text": [
      "+-------+-------+\n",
      "|isFraud|  count|\n",
      "+-------+-------+\n",
      "|      1|   8213|\n",
      "|      0|6354407|\n",
      "+-------+-------+\n",
      "\n"
     ]
    }
   ],
   "source": [
    "df.groupBy(\"isFraud\").count().show()"
   ]
  },
  {
   "cell_type": "code",
   "execution_count": 24,
   "id": "7e2f5cc1-01f1-4e02-9639-279e013532c6",
   "metadata": {},
   "outputs": [
    {
     "ename": "Py4JJavaError",
     "evalue": "An error occurred while calling o268.collectToPython.\n: org.apache.spark.SparkException: Job aborted due to stage failure: Exception while getting task result: java.lang.IllegalStateException: unread block data\n\tat org.apache.spark.scheduler.DAGScheduler.failJobAndIndependentStages(DAGScheduler.scala:2844)\n\tat org.apache.spark.scheduler.DAGScheduler.$anonfun$abortStage$2(DAGScheduler.scala:2780)\n\tat org.apache.spark.scheduler.DAGScheduler.$anonfun$abortStage$2$adapted(DAGScheduler.scala:2779)\n\tat scala.collection.mutable.ResizableArray.foreach(ResizableArray.scala:62)\n\tat scala.collection.mutable.ResizableArray.foreach$(ResizableArray.scala:55)\n\tat scala.collection.mutable.ArrayBuffer.foreach(ArrayBuffer.scala:49)\n\tat org.apache.spark.scheduler.DAGScheduler.abortStage(DAGScheduler.scala:2779)\n\tat org.apache.spark.scheduler.DAGScheduler.$anonfun$handleTaskSetFailed$1(DAGScheduler.scala:1242)\n\tat org.apache.spark.scheduler.DAGScheduler.$anonfun$handleTaskSetFailed$1$adapted(DAGScheduler.scala:1242)\n\tat scala.Option.foreach(Option.scala:407)\n\tat org.apache.spark.scheduler.DAGScheduler.handleTaskSetFailed(DAGScheduler.scala:1242)\n\tat org.apache.spark.scheduler.DAGSchedulerEventProcessLoop.doOnReceive(DAGScheduler.scala:3048)\n\tat org.apache.spark.scheduler.DAGSchedulerEventProcessLoop.onReceive(DAGScheduler.scala:2982)\n\tat org.apache.spark.scheduler.DAGSchedulerEventProcessLoop.onReceive(DAGScheduler.scala:2971)\n\tat org.apache.spark.util.EventLoop$$anon$1.run(EventLoop.scala:49)\n\tat org.apache.spark.scheduler.DAGScheduler.runJob(DAGScheduler.scala:984)\n\tat org.apache.spark.SparkContext.runJob(SparkContext.scala:2398)\n\tat org.apache.spark.SparkContext.runJob(SparkContext.scala:2419)\n\tat org.apache.spark.SparkContext.runJob(SparkContext.scala:2438)\n\tat org.apache.spark.SparkContext.runJob(SparkContext.scala:2463)\n\tat org.apache.spark.rdd.RDD.$anonfun$collect$1(RDD.scala:1046)\n\tat org.apache.spark.rdd.RDDOperationScope$.withScope(RDDOperationScope.scala:151)\n\tat org.apache.spark.rdd.RDDOperationScope$.withScope(RDDOperationScope.scala:112)\n\tat org.apache.spark.rdd.RDD.withScope(RDD.scala:407)\n\tat org.apache.spark.rdd.RDD.collect(RDD.scala:1045)\n\tat org.apache.spark.sql.execution.SparkPlan.executeCollect(SparkPlan.scala:448)\n\tat org.apache.spark.sql.Dataset.$anonfun$collectToPython$1(Dataset.scala:4160)\n\tat org.apache.spark.sql.Dataset.$anonfun$withAction$2(Dataset.scala:4334)\n\tat org.apache.spark.sql.execution.QueryExecution$.withInternalError(QueryExecution.scala:546)\n\tat org.apache.spark.sql.Dataset.$anonfun$withAction$1(Dataset.scala:4332)\n\tat org.apache.spark.sql.execution.SQLExecution$.$anonfun$withNewExecutionId$6(SQLExecution.scala:125)\n\tat org.apache.spark.sql.execution.SQLExecution$.withSQLConfPropagated(SQLExecution.scala:201)\n\tat org.apache.spark.sql.execution.SQLExecution$.$anonfun$withNewExecutionId$1(SQLExecution.scala:108)\n\tat org.apache.spark.sql.SparkSession.withActive(SparkSession.scala:900)\n\tat org.apache.spark.sql.execution.SQLExecution$.withNewExecutionId(SQLExecution.scala:66)\n\tat org.apache.spark.sql.Dataset.withAction(Dataset.scala:4332)\n\tat org.apache.spark.sql.Dataset.collectToPython(Dataset.scala:4157)\n\tat java.base/jdk.internal.reflect.NativeMethodAccessorImpl.invoke0(Native Method)\n\tat java.base/jdk.internal.reflect.NativeMethodAccessorImpl.invoke(NativeMethodAccessorImpl.java:77)\n\tat java.base/jdk.internal.reflect.DelegatingMethodAccessorImpl.invoke(DelegatingMethodAccessorImpl.java:43)\n\tat java.base/java.lang.reflect.Method.invoke(Method.java:568)\n\tat py4j.reflection.MethodInvoker.invoke(MethodInvoker.java:244)\n\tat py4j.reflection.ReflectionEngine.invoke(ReflectionEngine.java:374)\n\tat py4j.Gateway.invoke(Gateway.java:282)\n\tat py4j.commands.AbstractCommand.invokeMethod(AbstractCommand.java:132)\n\tat py4j.commands.CallCommand.execute(CallCommand.java:79)\n\tat py4j.ClientServerConnection.waitForCommands(ClientServerConnection.java:182)\n\tat py4j.ClientServerConnection.run(ClientServerConnection.java:106)\n\tat java.base/java.lang.Thread.run(Thread.java:833)\n",
     "output_type": "error",
     "traceback": [
      "\u001b[0;31m---------------------------------------------------------------------------\u001b[0m",
      "\u001b[0;31mPy4JJavaError\u001b[0m                             Traceback (most recent call last)",
      "Cell \u001b[0;32mIn[24], line 3\u001b[0m\n\u001b[1;32m      1\u001b[0m \u001b[38;5;28;01mimport\u001b[39;00m \u001b[38;5;21;01mseaborn\u001b[39;00m \u001b[38;5;28;01mas\u001b[39;00m \u001b[38;5;21;01msns\u001b[39;00m\n\u001b[1;32m      2\u001b[0m \u001b[38;5;28;01mfrom\u001b[39;00m \u001b[38;5;21;01mmatplotlib\u001b[39;00m \u001b[38;5;28;01mimport\u001b[39;00m pyplot \u001b[38;5;28;01mas\u001b[39;00m plt\n\u001b[0;32m----> 3\u001b[0m pd_df \u001b[38;5;241m=\u001b[39m \u001b[43mdf\u001b[49m\u001b[38;5;241;43m.\u001b[39;49m\u001b[43mtoPandas\u001b[49m\u001b[43m(\u001b[49m\u001b[43m)\u001b[49m\n\u001b[1;32m      4\u001b[0m \u001b[38;5;28mprint\u001b[39m(\u001b[38;5;124m'\u001b[39m\u001b[38;5;124mDistribution of the Classes in the dataset\u001b[39m\u001b[38;5;124m'\u001b[39m)\n\u001b[1;32m      5\u001b[0m \u001b[38;5;28mprint\u001b[39m(pd_df[\u001b[38;5;124m'\u001b[39m\u001b[38;5;124misFraud\u001b[39m\u001b[38;5;124m'\u001b[39m]\u001b[38;5;241m.\u001b[39mvalue_counts()\u001b[38;5;241m/\u001b[39m\u001b[38;5;28mlen\u001b[39m(pd_df))\n",
      "File \u001b[0;32m/usr/local/spark/python/pyspark/sql/pandas/conversion.py:202\u001b[0m, in \u001b[0;36mPandasConversionMixin.toPandas\u001b[0;34m(self)\u001b[0m\n\u001b[1;32m    199\u001b[0m             \u001b[38;5;28;01mraise\u001b[39;00m\n\u001b[1;32m    201\u001b[0m \u001b[38;5;66;03m# Below is toPandas without Arrow optimization.\u001b[39;00m\n\u001b[0;32m--> 202\u001b[0m rows \u001b[38;5;241m=\u001b[39m \u001b[38;5;28;43mself\u001b[39;49m\u001b[38;5;241;43m.\u001b[39;49m\u001b[43mcollect\u001b[49m\u001b[43m(\u001b[49m\u001b[43m)\u001b[49m\n\u001b[1;32m    203\u001b[0m \u001b[38;5;28;01mif\u001b[39;00m \u001b[38;5;28mlen\u001b[39m(rows) \u001b[38;5;241m>\u001b[39m \u001b[38;5;241m0\u001b[39m:\n\u001b[1;32m    204\u001b[0m     pdf \u001b[38;5;241m=\u001b[39m pd\u001b[38;5;241m.\u001b[39mDataFrame\u001b[38;5;241m.\u001b[39mfrom_records(\n\u001b[1;32m    205\u001b[0m         rows, index\u001b[38;5;241m=\u001b[39m\u001b[38;5;28mrange\u001b[39m(\u001b[38;5;28mlen\u001b[39m(rows)), columns\u001b[38;5;241m=\u001b[39m\u001b[38;5;28mself\u001b[39m\u001b[38;5;241m.\u001b[39mcolumns  \u001b[38;5;66;03m# type: ignore[arg-type]\u001b[39;00m\n\u001b[1;32m    206\u001b[0m     )\n",
      "File \u001b[0;32m/usr/local/spark/python/pyspark/sql/dataframe.py:1257\u001b[0m, in \u001b[0;36mDataFrame.collect\u001b[0;34m(self)\u001b[0m\n\u001b[1;32m   1237\u001b[0m \u001b[38;5;250m\u001b[39m\u001b[38;5;124;03m\"\"\"Returns all the records as a list of :class:`Row`.\u001b[39;00m\n\u001b[1;32m   1238\u001b[0m \n\u001b[1;32m   1239\u001b[0m \u001b[38;5;124;03m.. versionadded:: 1.3.0\u001b[39;00m\n\u001b[0;32m   (...)\u001b[0m\n\u001b[1;32m   1254\u001b[0m \u001b[38;5;124;03m[Row(age=14, name='Tom'), Row(age=23, name='Alice'), Row(age=16, name='Bob')]\u001b[39;00m\n\u001b[1;32m   1255\u001b[0m \u001b[38;5;124;03m\"\"\"\u001b[39;00m\n\u001b[1;32m   1256\u001b[0m \u001b[38;5;28;01mwith\u001b[39;00m SCCallSiteSync(\u001b[38;5;28mself\u001b[39m\u001b[38;5;241m.\u001b[39m_sc):\n\u001b[0;32m-> 1257\u001b[0m     sock_info \u001b[38;5;241m=\u001b[39m \u001b[38;5;28;43mself\u001b[39;49m\u001b[38;5;241;43m.\u001b[39;49m\u001b[43m_jdf\u001b[49m\u001b[38;5;241;43m.\u001b[39;49m\u001b[43mcollectToPython\u001b[49m\u001b[43m(\u001b[49m\u001b[43m)\u001b[49m\n\u001b[1;32m   1258\u001b[0m \u001b[38;5;28;01mreturn\u001b[39;00m \u001b[38;5;28mlist\u001b[39m(_load_from_socket(sock_info, BatchedSerializer(CPickleSerializer())))\n",
      "File \u001b[0;32m/usr/local/spark/python/lib/py4j-0.10.9.7-src.zip/py4j/java_gateway.py:1322\u001b[0m, in \u001b[0;36mJavaMember.__call__\u001b[0;34m(self, *args)\u001b[0m\n\u001b[1;32m   1316\u001b[0m command \u001b[38;5;241m=\u001b[39m proto\u001b[38;5;241m.\u001b[39mCALL_COMMAND_NAME \u001b[38;5;241m+\u001b[39m\\\n\u001b[1;32m   1317\u001b[0m     \u001b[38;5;28mself\u001b[39m\u001b[38;5;241m.\u001b[39mcommand_header \u001b[38;5;241m+\u001b[39m\\\n\u001b[1;32m   1318\u001b[0m     args_command \u001b[38;5;241m+\u001b[39m\\\n\u001b[1;32m   1319\u001b[0m     proto\u001b[38;5;241m.\u001b[39mEND_COMMAND_PART\n\u001b[1;32m   1321\u001b[0m answer \u001b[38;5;241m=\u001b[39m \u001b[38;5;28mself\u001b[39m\u001b[38;5;241m.\u001b[39mgateway_client\u001b[38;5;241m.\u001b[39msend_command(command)\n\u001b[0;32m-> 1322\u001b[0m return_value \u001b[38;5;241m=\u001b[39m \u001b[43mget_return_value\u001b[49m\u001b[43m(\u001b[49m\n\u001b[1;32m   1323\u001b[0m \u001b[43m    \u001b[49m\u001b[43manswer\u001b[49m\u001b[43m,\u001b[49m\u001b[43m \u001b[49m\u001b[38;5;28;43mself\u001b[39;49m\u001b[38;5;241;43m.\u001b[39;49m\u001b[43mgateway_client\u001b[49m\u001b[43m,\u001b[49m\u001b[43m \u001b[49m\u001b[38;5;28;43mself\u001b[39;49m\u001b[38;5;241;43m.\u001b[39;49m\u001b[43mtarget_id\u001b[49m\u001b[43m,\u001b[49m\u001b[43m \u001b[49m\u001b[38;5;28;43mself\u001b[39;49m\u001b[38;5;241;43m.\u001b[39;49m\u001b[43mname\u001b[49m\u001b[43m)\u001b[49m\n\u001b[1;32m   1325\u001b[0m \u001b[38;5;28;01mfor\u001b[39;00m temp_arg \u001b[38;5;129;01min\u001b[39;00m temp_args:\n\u001b[1;32m   1326\u001b[0m     \u001b[38;5;28;01mif\u001b[39;00m \u001b[38;5;28mhasattr\u001b[39m(temp_arg, \u001b[38;5;124m\"\u001b[39m\u001b[38;5;124m_detach\u001b[39m\u001b[38;5;124m\"\u001b[39m):\n",
      "File \u001b[0;32m/usr/local/spark/python/pyspark/errors/exceptions/captured.py:179\u001b[0m, in \u001b[0;36mcapture_sql_exception.<locals>.deco\u001b[0;34m(*a, **kw)\u001b[0m\n\u001b[1;32m    177\u001b[0m \u001b[38;5;28;01mdef\u001b[39;00m \u001b[38;5;21mdeco\u001b[39m(\u001b[38;5;241m*\u001b[39ma: Any, \u001b[38;5;241m*\u001b[39m\u001b[38;5;241m*\u001b[39mkw: Any) \u001b[38;5;241m-\u001b[39m\u001b[38;5;241m>\u001b[39m Any:\n\u001b[1;32m    178\u001b[0m     \u001b[38;5;28;01mtry\u001b[39;00m:\n\u001b[0;32m--> 179\u001b[0m         \u001b[38;5;28;01mreturn\u001b[39;00m \u001b[43mf\u001b[49m\u001b[43m(\u001b[49m\u001b[38;5;241;43m*\u001b[39;49m\u001b[43ma\u001b[49m\u001b[43m,\u001b[49m\u001b[43m \u001b[49m\u001b[38;5;241;43m*\u001b[39;49m\u001b[38;5;241;43m*\u001b[39;49m\u001b[43mkw\u001b[49m\u001b[43m)\u001b[49m\n\u001b[1;32m    180\u001b[0m     \u001b[38;5;28;01mexcept\u001b[39;00m Py4JJavaError \u001b[38;5;28;01mas\u001b[39;00m e:\n\u001b[1;32m    181\u001b[0m         converted \u001b[38;5;241m=\u001b[39m convert_exception(e\u001b[38;5;241m.\u001b[39mjava_exception)\n",
      "File \u001b[0;32m/usr/local/spark/python/lib/py4j-0.10.9.7-src.zip/py4j/protocol.py:326\u001b[0m, in \u001b[0;36mget_return_value\u001b[0;34m(answer, gateway_client, target_id, name)\u001b[0m\n\u001b[1;32m    324\u001b[0m value \u001b[38;5;241m=\u001b[39m OUTPUT_CONVERTER[\u001b[38;5;28mtype\u001b[39m](answer[\u001b[38;5;241m2\u001b[39m:], gateway_client)\n\u001b[1;32m    325\u001b[0m \u001b[38;5;28;01mif\u001b[39;00m answer[\u001b[38;5;241m1\u001b[39m] \u001b[38;5;241m==\u001b[39m REFERENCE_TYPE:\n\u001b[0;32m--> 326\u001b[0m     \u001b[38;5;28;01mraise\u001b[39;00m Py4JJavaError(\n\u001b[1;32m    327\u001b[0m         \u001b[38;5;124m\"\u001b[39m\u001b[38;5;124mAn error occurred while calling \u001b[39m\u001b[38;5;132;01m{0}\u001b[39;00m\u001b[38;5;132;01m{1}\u001b[39;00m\u001b[38;5;132;01m{2}\u001b[39;00m\u001b[38;5;124m.\u001b[39m\u001b[38;5;130;01m\\n\u001b[39;00m\u001b[38;5;124m\"\u001b[39m\u001b[38;5;241m.\u001b[39m\n\u001b[1;32m    328\u001b[0m         \u001b[38;5;28mformat\u001b[39m(target_id, \u001b[38;5;124m\"\u001b[39m\u001b[38;5;124m.\u001b[39m\u001b[38;5;124m\"\u001b[39m, name), value)\n\u001b[1;32m    329\u001b[0m \u001b[38;5;28;01melse\u001b[39;00m:\n\u001b[1;32m    330\u001b[0m     \u001b[38;5;28;01mraise\u001b[39;00m Py4JError(\n\u001b[1;32m    331\u001b[0m         \u001b[38;5;124m\"\u001b[39m\u001b[38;5;124mAn error occurred while calling \u001b[39m\u001b[38;5;132;01m{0}\u001b[39;00m\u001b[38;5;132;01m{1}\u001b[39;00m\u001b[38;5;132;01m{2}\u001b[39;00m\u001b[38;5;124m. Trace:\u001b[39m\u001b[38;5;130;01m\\n\u001b[39;00m\u001b[38;5;132;01m{3}\u001b[39;00m\u001b[38;5;130;01m\\n\u001b[39;00m\u001b[38;5;124m\"\u001b[39m\u001b[38;5;241m.\u001b[39m\n\u001b[1;32m    332\u001b[0m         \u001b[38;5;28mformat\u001b[39m(target_id, \u001b[38;5;124m\"\u001b[39m\u001b[38;5;124m.\u001b[39m\u001b[38;5;124m\"\u001b[39m, name, value))\n",
      "\u001b[0;31mPy4JJavaError\u001b[0m: An error occurred while calling o268.collectToPython.\n: org.apache.spark.SparkException: Job aborted due to stage failure: Exception while getting task result: java.lang.IllegalStateException: unread block data\n\tat org.apache.spark.scheduler.DAGScheduler.failJobAndIndependentStages(DAGScheduler.scala:2844)\n\tat org.apache.spark.scheduler.DAGScheduler.$anonfun$abortStage$2(DAGScheduler.scala:2780)\n\tat org.apache.spark.scheduler.DAGScheduler.$anonfun$abortStage$2$adapted(DAGScheduler.scala:2779)\n\tat scala.collection.mutable.ResizableArray.foreach(ResizableArray.scala:62)\n\tat scala.collection.mutable.ResizableArray.foreach$(ResizableArray.scala:55)\n\tat scala.collection.mutable.ArrayBuffer.foreach(ArrayBuffer.scala:49)\n\tat org.apache.spark.scheduler.DAGScheduler.abortStage(DAGScheduler.scala:2779)\n\tat org.apache.spark.scheduler.DAGScheduler.$anonfun$handleTaskSetFailed$1(DAGScheduler.scala:1242)\n\tat org.apache.spark.scheduler.DAGScheduler.$anonfun$handleTaskSetFailed$1$adapted(DAGScheduler.scala:1242)\n\tat scala.Option.foreach(Option.scala:407)\n\tat org.apache.spark.scheduler.DAGScheduler.handleTaskSetFailed(DAGScheduler.scala:1242)\n\tat org.apache.spark.scheduler.DAGSchedulerEventProcessLoop.doOnReceive(DAGScheduler.scala:3048)\n\tat org.apache.spark.scheduler.DAGSchedulerEventProcessLoop.onReceive(DAGScheduler.scala:2982)\n\tat org.apache.spark.scheduler.DAGSchedulerEventProcessLoop.onReceive(DAGScheduler.scala:2971)\n\tat org.apache.spark.util.EventLoop$$anon$1.run(EventLoop.scala:49)\n\tat org.apache.spark.scheduler.DAGScheduler.runJob(DAGScheduler.scala:984)\n\tat org.apache.spark.SparkContext.runJob(SparkContext.scala:2398)\n\tat org.apache.spark.SparkContext.runJob(SparkContext.scala:2419)\n\tat org.apache.spark.SparkContext.runJob(SparkContext.scala:2438)\n\tat org.apache.spark.SparkContext.runJob(SparkContext.scala:2463)\n\tat org.apache.spark.rdd.RDD.$anonfun$collect$1(RDD.scala:1046)\n\tat org.apache.spark.rdd.RDDOperationScope$.withScope(RDDOperationScope.scala:151)\n\tat org.apache.spark.rdd.RDDOperationScope$.withScope(RDDOperationScope.scala:112)\n\tat org.apache.spark.rdd.RDD.withScope(RDD.scala:407)\n\tat org.apache.spark.rdd.RDD.collect(RDD.scala:1045)\n\tat org.apache.spark.sql.execution.SparkPlan.executeCollect(SparkPlan.scala:448)\n\tat org.apache.spark.sql.Dataset.$anonfun$collectToPython$1(Dataset.scala:4160)\n\tat org.apache.spark.sql.Dataset.$anonfun$withAction$2(Dataset.scala:4334)\n\tat org.apache.spark.sql.execution.QueryExecution$.withInternalError(QueryExecution.scala:546)\n\tat org.apache.spark.sql.Dataset.$anonfun$withAction$1(Dataset.scala:4332)\n\tat org.apache.spark.sql.execution.SQLExecution$.$anonfun$withNewExecutionId$6(SQLExecution.scala:125)\n\tat org.apache.spark.sql.execution.SQLExecution$.withSQLConfPropagated(SQLExecution.scala:201)\n\tat org.apache.spark.sql.execution.SQLExecution$.$anonfun$withNewExecutionId$1(SQLExecution.scala:108)\n\tat org.apache.spark.sql.SparkSession.withActive(SparkSession.scala:900)\n\tat org.apache.spark.sql.execution.SQLExecution$.withNewExecutionId(SQLExecution.scala:66)\n\tat org.apache.spark.sql.Dataset.withAction(Dataset.scala:4332)\n\tat org.apache.spark.sql.Dataset.collectToPython(Dataset.scala:4157)\n\tat java.base/jdk.internal.reflect.NativeMethodAccessorImpl.invoke0(Native Method)\n\tat java.base/jdk.internal.reflect.NativeMethodAccessorImpl.invoke(NativeMethodAccessorImpl.java:77)\n\tat java.base/jdk.internal.reflect.DelegatingMethodAccessorImpl.invoke(DelegatingMethodAccessorImpl.java:43)\n\tat java.base/java.lang.reflect.Method.invoke(Method.java:568)\n\tat py4j.reflection.MethodInvoker.invoke(MethodInvoker.java:244)\n\tat py4j.reflection.ReflectionEngine.invoke(ReflectionEngine.java:374)\n\tat py4j.Gateway.invoke(Gateway.java:282)\n\tat py4j.commands.AbstractCommand.invokeMethod(AbstractCommand.java:132)\n\tat py4j.commands.CallCommand.execute(CallCommand.java:79)\n\tat py4j.ClientServerConnection.waitForCommands(ClientServerConnection.java:182)\n\tat py4j.ClientServerConnection.run(ClientServerConnection.java:106)\n\tat java.base/java.lang.Thread.run(Thread.java:833)\n"
     ]
    }
   ],
   "source": [
    "import seaborn as sns\n",
    "from matplotlib import pyplot as plt\n",
    "pd_df = df.toPandas()\n",
    "print('Distribution of the Classes in the dataset')\n",
    "print(pd_df['isFraud'].value_counts()/len(pd_df))"
   ]
  },
  {
   "cell_type": "code",
   "execution_count": 25,
   "id": "36086e33-6855-41d5-a27b-08a62023c729",
   "metadata": {},
   "outputs": [
    {
     "ename": "NameError",
     "evalue": "name 'pd_df' is not defined",
     "output_type": "error",
     "traceback": [
      "\u001b[0;31m---------------------------------------------------------------------------\u001b[0m",
      "\u001b[0;31mNameError\u001b[0m                                 Traceback (most recent call last)",
      "Cell \u001b[0;32mIn[25], line 11\u001b[0m\n\u001b[1;32m      8\u001b[0m fig, axs \u001b[38;5;241m=\u001b[39m plt\u001b[38;5;241m.\u001b[39msubplots(\u001b[38;5;241m1\u001b[39m, \u001b[38;5;241m2\u001b[39m, figsize\u001b[38;5;241m=\u001b[39m(\u001b[38;5;241m16\u001b[39m, \u001b[38;5;241m6\u001b[39m))\n\u001b[1;32m     10\u001b[0m \u001b[38;5;66;03m# Diagramme à barres\u001b[39;00m\n\u001b[0;32m---> 11\u001b[0m axs[\u001b[38;5;241m0\u001b[39m]\u001b[38;5;241m.\u001b[39mbar([\u001b[38;5;124m'\u001b[39m\u001b[38;5;124mNon-Fraude\u001b[39m\u001b[38;5;124m'\u001b[39m, \u001b[38;5;124m'\u001b[39m\u001b[38;5;124mFraude\u001b[39m\u001b[38;5;124m'\u001b[39m], \u001b[43mpd_df\u001b[49m[\u001b[38;5;124m'\u001b[39m\u001b[38;5;124misFraud\u001b[39m\u001b[38;5;124m'\u001b[39m]\u001b[38;5;241m.\u001b[39mvalue_counts(), color\u001b[38;5;241m=\u001b[39mbar_colors)\n\u001b[1;32m     12\u001b[0m axs[\u001b[38;5;241m0\u001b[39m]\u001b[38;5;241m.\u001b[39mset_xlabel(\u001b[38;5;124m'\u001b[39m\u001b[38;5;124mType de transaction\u001b[39m\u001b[38;5;124m'\u001b[39m, fontsize\u001b[38;5;241m=\u001b[39m\u001b[38;5;241m15\u001b[39m, fontweight\u001b[38;5;241m=\u001b[39m\u001b[38;5;124m'\u001b[39m\u001b[38;5;124mbold\u001b[39m\u001b[38;5;124m'\u001b[39m)\n\u001b[1;32m     13\u001b[0m axs[\u001b[38;5;241m0\u001b[39m]\u001b[38;5;241m.\u001b[39mset_ylabel(\u001b[38;5;124m'\u001b[39m\u001b[38;5;124mNombre d\u001b[39m\u001b[38;5;130;01m\\'\u001b[39;00m\u001b[38;5;124mobservations (Millions)\u001b[39m\u001b[38;5;124m'\u001b[39m, fontsize\u001b[38;5;241m=\u001b[39m\u001b[38;5;241m15\u001b[39m, fontweight\u001b[38;5;241m=\u001b[39m\u001b[38;5;124m'\u001b[39m\u001b[38;5;124mbold\u001b[39m\u001b[38;5;124m'\u001b[39m)\n",
      "\u001b[0;31mNameError\u001b[0m: name 'pd_df' is not defined"
     ]
    },
    {
     "data": {
      "image/png": "[encoded data removed]",
      "text/plain": [
       "<Figure size 1600x600 with 2 Axes>"
      ]
     },
     "metadata": {},
     "output_type": "display_data"
    }
   ],
   "source": [
    "import matplotlib.pyplot as plt\n",
    "\n",
    "# Définir les couleurs personnalisées\n",
    "bar_colors = ['GREEN', 'YELLOW']  # Couleurs des barres\n",
    "text_color = 'RED'  # Couleur du texte\n",
    "\n",
    "# Créer une figure et des sous-graphiques\n",
    "fig, axs = plt.subplots(1, 2, figsize=(16, 6))\n",
    "\n",
    "# Diagramme à barres\n",
    "axs[0].bar(['Non-Fraude', 'Fraude'], pd_df['isFraud'].value_counts(), color=bar_colors)\n",
    "axs[0].set_xlabel('Type de transaction', fontsize=15, fontweight='bold')\n",
    "axs[0].set_ylabel('Nombre d\\'observations (Millions)', fontsize=15, fontweight='bold')\n",
    "axs[0].set_title('Nombre d\\'observations dans chaque classe', fontsize=18, fontweight='bold')\n",
    "for i, val in enumerate(pd_df['isFraud'].value_counts()):\n",
    "    axs[0].text(i, val + 3, str(val), fontsize=15, color=text_color, ha='center')\n",
    "\n",
    "# Diagramme circulaire\n",
    "axs[1].pie(pd_df['isFraud'].value_counts(), labels=['Non-Fraude', 'Fraude'], autopct='%.2f', colors=bar_colors)\n",
    "axs[1].set_title('Répartition en pourcentage de chaque classe', fontsize=18, fontweight='bold')\n",
    "\n",
    "# Afficher le graphique\n",
    "plt.show()\n"
   ]
  },
  {
   "cell_type": "markdown",
   "id": "8c078a14-3af1-4c65-bbed-c7d0962b93f8",
   "metadata": {},
   "source": [
    "# Data Pre-processing :"
   ]
  },
  {
   "cell_type": "code",
   "execution_count": 26,
   "id": "f0806309-bf1d-4dd1-99ad-a0a9a55daa2e",
   "metadata": {},
   "outputs": [],
   "source": [
    "data = df"
   ]
  },
  {
   "cell_type": "code",
   "execution_count": 27,
   "id": "17f2b2ee-abb7-4fd6-b49b-45744a2effc9",
   "metadata": {},
   "outputs": [
    {
     "name": "stdout",
     "output_type": "stream",
     "text": [
      "+----+--------+--------+-----------+-------------+--------------+-----------+--------------+--------------+-------+\n",
      "|step|    type|  amount|   nameOrig|oldbalanceOrg|newbalanceOrig|   nameDest|oldbalanceDest|newbalanceDest|isFraud|\n",
      "+----+--------+--------+-----------+-------------+--------------+-----------+--------------+--------------+-------+\n",
      "| 1.0| PAYMENT| 9839.64|C1231006815|     170136.0|     160296.36|M1979787155|           0.0|           0.0|      0|\n",
      "| 1.0| PAYMENT| 1864.28|C1666544295|      21249.0|      19384.72|M2044282225|           0.0|           0.0|      0|\n",
      "| 1.0|TRANSFER|   181.0|C1305486145|        181.0|           0.0| C553264065|           0.0|           0.0|      1|\n",
      "| 1.0|CASH_OUT|   181.0| C840083671|        181.0|           0.0|  C38997010|       21182.0|           0.0|      1|\n",
      "| 1.0| PAYMENT|11668.14|C2048537720|      41554.0|      29885.86|M1230701703|           0.0|           0.0|      0|\n",
      "+----+--------+--------+-----------+-------------+--------------+-----------+--------------+--------------+-------+\n",
      "only showing top 5 rows\n",
      "\n"
     ]
    }
   ],
   "source": [
    "data.show(5)"
   ]
  },
  {
   "cell_type": "code",
   "execution_count": 28,
   "id": "3bc95881-ca86-49c7-8b33-51a20ba94312",
   "metadata": {},
   "outputs": [
    {
     "name": "stdout",
     "output_type": "stream",
     "text": [
      "+--------+-----------+-----------+\n",
      "|    type|   nameOrig|   nameDest|\n",
      "+--------+-----------+-----------+\n",
      "| PAYMENT|C1231006815|M1979787155|\n",
      "| PAYMENT|C1666544295|M2044282225|\n",
      "|TRANSFER|C1305486145| C553264065|\n",
      "|CASH_OUT| C840083671|  C38997010|\n",
      "| PAYMENT|C2048537720|M1230701703|\n",
      "+--------+-----------+-----------+\n",
      "only showing top 5 rows\n",
      "\n"
     ]
    }
   ],
   "source": [
    "data['type', 'nameOrig', 'nameDest'].show(5)"
   ]
  },
  {
   "cell_type": "markdown",
   "id": "569b5aee-fd73-44e1-8473-3d3966e523e4",
   "metadata": {},
   "source": [
    "## separate nameOrig and nameDest :"
   ]
  },
  {
   "cell_type": "code",
   "execution_count": 29,
   "id": "77aeff87-32eb-4a27-894b-f939520829e7",
   "metadata": {},
   "outputs": [
    {
     "name": "stdout",
     "output_type": "stream",
     "text": [
      "+----+--------+--------+-------------+--------------+-----------+--------------+--------------+-------+--------+----------+\n",
      "|step|    type|  amount|oldbalanceOrg|newbalanceOrig|   nameDest|oldbalanceDest|newbalanceDest|isFraud|str_orig|  num_orig|\n",
      "+----+--------+--------+-------------+--------------+-----------+--------------+--------------+-------+--------+----------+\n",
      "| 1.0| PAYMENT| 9839.64|     170136.0|     160296.36|M1979787155|           0.0|           0.0|      0|       C|1231006815|\n",
      "| 1.0| PAYMENT| 1864.28|      21249.0|      19384.72|M2044282225|           0.0|           0.0|      0|       C|1666544295|\n",
      "| 1.0|TRANSFER|   181.0|        181.0|           0.0| C553264065|           0.0|           0.0|      1|       C|1305486145|\n",
      "| 1.0|CASH_OUT|   181.0|        181.0|           0.0|  C38997010|       21182.0|           0.0|      1|       C| 840083671|\n",
      "| 1.0| PAYMENT|11668.14|      41554.0|      29885.86|M1230701703|           0.0|           0.0|      0|       C|2048537720|\n",
      "+----+--------+--------+-------------+--------------+-----------+--------------+--------------+-------+--------+----------+\n",
      "only showing top 5 rows\n",
      "\n"
     ]
    }
   ],
   "source": [
    "import pyspark.sql.functions as F\n",
    "\n",
    "data = (\n",
    "    data.withColumn('str_orig', F.substring('nameOrig', 1,1))\n",
    "    .withColumn('num_orig', F.col('nameOrig').substr(F.lit(2), F.length('nameOrig') - F.lit(1)))\n",
    ")\n",
    "data = data.drop('nameOrig')\n",
    "# show df\n",
    "data.show(5)"
   ]
  },
  {
   "cell_type": "code",
   "execution_count": 30,
   "id": "c6c78ac7-5a2f-4839-9fd0-6966aa5198b0",
   "metadata": {},
   "outputs": [],
   "source": [
    "data = data.withColumn(\"num_orig\", data.num_orig.cast(DoubleType()))"
   ]
  },
  {
   "cell_type": "code",
   "execution_count": 31,
   "id": "62d8684c-05ac-413e-b561-4a017d785ecc",
   "metadata": {},
   "outputs": [
    {
     "name": "stdout",
     "output_type": "stream",
     "text": [
      "+----+--------+--------+-------------+--------------+--------------+--------------+-------+--------+-------------+--------+----------+\n",
      "|step|    type|  amount|oldbalanceOrg|newbalanceOrig|oldbalanceDest|newbalanceDest|isFraud|str_orig|     num_orig|str_dest|  num_dest|\n",
      "+----+--------+--------+-------------+--------------+--------------+--------------+-------+--------+-------------+--------+----------+\n",
      "| 1.0| PAYMENT| 9839.64|     170136.0|     160296.36|           0.0|           0.0|      0|       C|1.231006815E9|       M|1979787155|\n",
      "| 1.0| PAYMENT| 1864.28|      21249.0|      19384.72|           0.0|           0.0|      0|       C|1.666544295E9|       M|2044282225|\n",
      "| 1.0|TRANSFER|   181.0|        181.0|           0.0|           0.0|           0.0|      1|       C|1.305486145E9|       C| 553264065|\n",
      "| 1.0|CASH_OUT|   181.0|        181.0|           0.0|       21182.0|           0.0|      1|       C| 8.40083671E8|       C|  38997010|\n",
      "| 1.0| PAYMENT|11668.14|      41554.0|      29885.86|           0.0|           0.0|      0|       C| 2.04853772E9|       M|1230701703|\n",
      "+----+--------+--------+-------------+--------------+--------------+--------------+-------+--------+-------------+--------+----------+\n",
      "only showing top 5 rows\n",
      "\n"
     ]
    }
   ],
   "source": [
    "import pyspark.sql.functions as F\n",
    "\n",
    "data = (\n",
    "    data.withColumn('str_dest', F.substring('nameDest', 1,1))\n",
    "    .withColumn('num_dest', F.col('nameDest').substr(F.lit(2), F.length('nameDest') - F.lit(1)))\n",
    ")\n",
    "data = data.drop('nameDest')\n",
    "# show df\n",
    "data.show(5)"
   ]
  },
  {
   "cell_type": "code",
   "execution_count": 32,
   "id": "40a10f87-a706-40bf-9088-09881c854fe8",
   "metadata": {},
   "outputs": [],
   "source": [
    "data = data.withColumn(\"num_dest\", data.num_orig.cast(DoubleType()))"
   ]
  },
  {
   "cell_type": "code",
   "execution_count": 33,
   "id": "5cce798c-4e75-4743-81e5-9fbe93e10d4b",
   "metadata": {},
   "outputs": [
    {
     "data": {
      "text/plain": [
       "[('step', 'double'),\n",
       " ('type', 'string'),\n",
       " ('amount', 'double'),\n",
       " ('oldbalanceOrg', 'double'),\n",
       " ('newbalanceOrig', 'double'),\n",
       " ('oldbalanceDest', 'double'),\n",
       " ('newbalanceDest', 'double'),\n",
       " ('isFraud', 'int'),\n",
       " ('str_orig', 'string'),\n",
       " ('num_orig', 'double'),\n",
       " ('str_dest', 'string'),\n",
       " ('num_dest', 'double')]"
      ]
     },
     "execution_count": 33,
     "metadata": {},
     "output_type": "execute_result"
    }
   ],
   "source": [
    "data.dtypes"
   ]
  },
  {
   "cell_type": "markdown",
   "id": "a0d9e9ab-12d1-4735-98cf-3e2d24567ec3",
   "metadata": {},
   "source": [
    "## Apply OneHotEncoder to type, str_orig and str_dest columns"
   ]
  },
  {
   "cell_type": "markdown",
   "id": "d3eb68d0-c29f-4fc8-a587-3cd97219cf83",
   "metadata": {},
   "source": [
    "### type column :"
   ]
  },
  {
   "cell_type": "code",
   "execution_count": 35,
   "id": "63b05f95-c336-4612-8b7d-b58cac514585",
   "metadata": {},
   "outputs": [
    {
     "name": "stdout",
     "output_type": "stream",
     "text": [
      "+----+--------+-------------+--------------+--------------+--------------+-------+--------+-------------+--------+-------------+---------+\n",
      "|step|  amount|oldbalanceOrg|newbalanceOrig|oldbalanceDest|newbalanceDest|isFraud|str_orig|     num_orig|str_dest|     num_dest|typeIndex|\n",
      "+----+--------+-------------+--------------+--------------+--------------+-------+--------+-------------+--------+-------------+---------+\n",
      "| 1.0| 9839.64|     170136.0|     160296.36|           0.0|           0.0|      0|       C|1.231006815E9|       M|1.231006815E9|      1.0|\n",
      "| 1.0| 1864.28|      21249.0|      19384.72|           0.0|           0.0|      0|       C|1.666544295E9|       M|1.666544295E9|      1.0|\n",
      "| 1.0|   181.0|        181.0|           0.0|           0.0|           0.0|      1|       C|1.305486145E9|       C|1.305486145E9|      3.0|\n",
      "| 1.0|   181.0|        181.0|           0.0|       21182.0|           0.0|      1|       C| 8.40083671E8|       C| 8.40083671E8|      0.0|\n",
      "| 1.0|11668.14|      41554.0|      29885.86|           0.0|           0.0|      0|       C| 2.04853772E9|       M| 2.04853772E9|      1.0|\n",
      "+----+--------+-------------+--------------+--------------+--------------+-------+--------+-------------+--------+-------------+---------+\n",
      "only showing top 5 rows\n",
      "\n"
     ]
    }
   ],
   "source": [
    "from pyspark.ml.feature import StringIndexer\n",
    "type_indexer = StringIndexer(inputCol=\"type\", outputCol=\"typeIndex\")\n",
    "#Fits a model to the input dataset with optional parameters.\n",
    "data = type_indexer.fit(data).transform(data)\n",
    "data = data.drop('type')\n",
    "data.show(5)"
   ]
  },
  {
   "cell_type": "code",
   "execution_count": 36,
   "id": "a74414b0-67d6-44a3-bb8f-1cd06e00b3ca",
   "metadata": {},
   "outputs": [
    {
     "name": "stdout",
     "output_type": "stream",
     "text": [
      "+---------+-------+\n",
      "|typeIndex|  count|\n",
      "+---------+-------+\n",
      "|      0.0|2237500|\n",
      "|      1.0|2151495|\n",
      "|      4.0|  41432|\n",
      "|      3.0| 532909|\n",
      "|      2.0|1399284|\n",
      "+---------+-------+\n",
      "\n"
     ]
    }
   ],
   "source": [
    "data.groupBy(\"typeIndex\").count().show()"
   ]
  },
  {
   "cell_type": "markdown",
   "id": "bafe3993-2468-4fdd-9d91-3a715d3f4936",
   "metadata": {},
   "source": [
    "### str_orig column"
   ]
  },
  {
   "cell_type": "code",
   "execution_count": 37,
   "id": "995a74e0-83a3-49f1-ad40-f48d51351d5c",
   "metadata": {},
   "outputs": [
    {
     "name": "stdout",
     "output_type": "stream",
     "text": [
      "+----+--------+-------------+--------------+--------------+--------------+-------+-------------+--------+-------------+---------+-------------+\n",
      "|step|  amount|oldbalanceOrg|newbalanceOrig|oldbalanceDest|newbalanceDest|isFraud|     num_orig|str_dest|     num_dest|typeIndex|nameOrigIndex|\n",
      "+----+--------+-------------+--------------+--------------+--------------+-------+-------------+--------+-------------+---------+-------------+\n",
      "| 1.0| 9839.64|     170136.0|     160296.36|           0.0|           0.0|      0|1.231006815E9|       M|1.231006815E9|      1.0|          0.0|\n",
      "| 1.0| 1864.28|      21249.0|      19384.72|           0.0|           0.0|      0|1.666544295E9|       M|1.666544295E9|      1.0|          0.0|\n",
      "| 1.0|   181.0|        181.0|           0.0|           0.0|           0.0|      1|1.305486145E9|       C|1.305486145E9|      3.0|          0.0|\n",
      "| 1.0|   181.0|        181.0|           0.0|       21182.0|           0.0|      1| 8.40083671E8|       C| 8.40083671E8|      0.0|          0.0|\n",
      "| 1.0|11668.14|      41554.0|      29885.86|           0.0|           0.0|      0| 2.04853772E9|       M| 2.04853772E9|      1.0|          0.0|\n",
      "+----+--------+-------------+--------------+--------------+--------------+-------+-------------+--------+-------------+---------+-------------+\n",
      "only showing top 5 rows\n",
      "\n"
     ]
    }
   ],
   "source": [
    "nameOrig_indexer = StringIndexer(inputCol=\"str_orig\", outputCol=\"nameOrigIndex\")\n",
    "#Fits a model to the input dataset with optional parameters.\n",
    "data = nameOrig_indexer.fit(data).transform(data).drop('str_orig')\n",
    "data.show(5)"
   ]
  },
  {
   "cell_type": "markdown",
   "id": "bc5643eb-c32d-427b-82ea-b5f9c80e3800",
   "metadata": {},
   "source": [
    "### str_dest column"
   ]
  },
  {
   "cell_type": "code",
   "execution_count": 38,
   "id": "73b3530c-4468-49e6-a77d-6e174c0d8874",
   "metadata": {},
   "outputs": [
    {
     "name": "stdout",
     "output_type": "stream",
     "text": [
      "+----+--------+-------------+--------------+--------------+--------------+-------+-------------+-------------+---------+-------------+-------------+\n",
      "|step|  amount|oldbalanceOrg|newbalanceOrig|oldbalanceDest|newbalanceDest|isFraud|     num_orig|     num_dest|typeIndex|nameOrigIndex|nameDestIndex|\n",
      "+----+--------+-------------+--------------+--------------+--------------+-------+-------------+-------------+---------+-------------+-------------+\n",
      "| 1.0| 9839.64|     170136.0|     160296.36|           0.0|           0.0|      0|1.231006815E9|1.231006815E9|      1.0|          0.0|          1.0|\n",
      "| 1.0| 1864.28|      21249.0|      19384.72|           0.0|           0.0|      0|1.666544295E9|1.666544295E9|      1.0|          0.0|          1.0|\n",
      "| 1.0|   181.0|        181.0|           0.0|           0.0|           0.0|      1|1.305486145E9|1.305486145E9|      3.0|          0.0|          0.0|\n",
      "| 1.0|   181.0|        181.0|           0.0|       21182.0|           0.0|      1| 8.40083671E8| 8.40083671E8|      0.0|          0.0|          0.0|\n",
      "| 1.0|11668.14|      41554.0|      29885.86|           0.0|           0.0|      0| 2.04853772E9| 2.04853772E9|      1.0|          0.0|          1.0|\n",
      "+----+--------+-------------+--------------+--------------+--------------+-------+-------------+-------------+---------+-------------+-------------+\n",
      "only showing top 5 rows\n",
      "\n"
     ]
    }
   ],
   "source": [
    "nameDest_indexer = StringIndexer(inputCol=\"str_dest\", outputCol=\"nameDestIndex\")\n",
    "#Fits a model to the input dataset with optional parameters.\n",
    "data = nameDest_indexer.fit(data).transform(data).drop('str_dest')\n",
    "data.show(5)"
   ]
  },
  {
   "cell_type": "code",
   "execution_count": 39,
   "id": "1eeca2f3-604c-48c5-af42-3d7351b8d627",
   "metadata": {},
   "outputs": [
    {
     "data": {
      "text/plain": [
       "[('step', 'double'),\n",
       " ('amount', 'double'),\n",
       " ('oldbalanceOrg', 'double'),\n",
       " ('newbalanceOrig', 'double'),\n",
       " ('oldbalanceDest', 'double'),\n",
       " ('newbalanceDest', 'double'),\n",
       " ('isFraud', 'int'),\n",
       " ('num_orig', 'double'),\n",
       " ('num_dest', 'double'),\n",
       " ('typeIndex', 'double'),\n",
       " ('nameOrigIndex', 'double'),\n",
       " ('nameDestIndex', 'double')]"
      ]
     },
     "execution_count": 39,
     "metadata": {},
     "output_type": "execute_result"
    }
   ],
   "source": [
    "data.dtypes"
   ]
  },
  {
   "cell_type": "code",
   "execution_count": 40,
   "id": "b1229cc9-7aca-4dd0-8ba1-008c2e71f88a",
   "metadata": {},
   "outputs": [
    {
     "name": "stdout",
     "output_type": "stream",
     "text": [
      "+----+--------+-------------+--------------+--------------+--------------+-------+-------------+-------------+---------+-------------+-------------+\n",
      "|step|  amount|oldbalanceOrg|newbalanceOrig|oldbalanceDest|newbalanceDest|isFraud|     num_orig|     num_dest|typeIndex|nameOrigIndex|nameDestIndex|\n",
      "+----+--------+-------------+--------------+--------------+--------------+-------+-------------+-------------+---------+-------------+-------------+\n",
      "| 1.0| 9839.64|     170136.0|     160296.36|           0.0|           0.0|      0|1.231006815E9|1.231006815E9|      1.0|          0.0|          1.0|\n",
      "| 1.0| 1864.28|      21249.0|      19384.72|           0.0|           0.0|      0|1.666544295E9|1.666544295E9|      1.0|          0.0|          1.0|\n",
      "| 1.0|   181.0|        181.0|           0.0|           0.0|           0.0|      1|1.305486145E9|1.305486145E9|      3.0|          0.0|          0.0|\n",
      "| 1.0|   181.0|        181.0|           0.0|       21182.0|           0.0|      1| 8.40083671E8| 8.40083671E8|      0.0|          0.0|          0.0|\n",
      "| 1.0|11668.14|      41554.0|      29885.86|           0.0|           0.0|      0| 2.04853772E9| 2.04853772E9|      1.0|          0.0|          1.0|\n",
      "+----+--------+-------------+--------------+--------------+--------------+-------+-------------+-------------+---------+-------------+-------------+\n",
      "only showing top 5 rows\n",
      "\n"
     ]
    }
   ],
   "source": [
    "data.show(5)"
   ]
  },
  {
   "cell_type": "code",
   "execution_count": 41,
   "id": "0c3d88c5-d445-412a-8be7-0cf4dd679a1c",
   "metadata": {},
   "outputs": [],
   "source": [
    "from pyspark.ml.feature import VectorAssembler\n",
    "\n",
    "assembler = VectorAssembler(inputCols=['amount', 'oldbalanceOrg', 'newbalanceOrig', 'oldbalanceDest', \n",
    "                                       'newbalanceDest', 'num_orig', 'num_dest', 'typeIndex','nameOrigIndex',\n",
    "                                       'nameDestIndex'], outputCol='features')\n",
    "data = assembler.transform(data)"
   ]
  },
  {
   "cell_type": "code",
   "execution_count": 42,
   "id": "f38e5fe2-569a-402d-9a4e-c4fd9623a699",
   "metadata": {},
   "outputs": [
    {
     "name": "stdout",
     "output_type": "stream",
     "text": [
      "+--------------------+-------+\n",
      "|            features|isFraud|\n",
      "+--------------------+-------+\n",
      "|[9839.64,170136.0...|      0|\n",
      "|[1864.28,21249.0,...|      0|\n",
      "|(10,[0,1,5,6,7],[...|      1|\n",
      "|(10,[0,1,3,5,6],[...|      1|\n",
      "|[11668.14,41554.0...|      0|\n",
      "+--------------------+-------+\n",
      "only showing top 5 rows\n",
      "\n"
     ]
    }
   ],
   "source": [
    "data['features','isFraud'].show(5)"
   ]
  },
  {
   "cell_type": "markdown",
   "id": "4c6af60c-143f-440b-9a8f-e699b27f484b",
   "metadata": {},
   "source": [
    "## Split the data into Train and test sets :"
   ]
  },
  {
   "cell_type": "code",
   "execution_count": 43,
   "id": "ad0def33-7b11-4436-b0b0-bbdce808b56a",
   "metadata": {},
   "outputs": [],
   "source": [
    "(train, test )= data.randomSplit([0.8, 0.2], seed=23)"
   ]
  },
  {
   "cell_type": "code",
   "execution_count": 44,
   "id": "94c43856-bb68-4bb4-a60a-1dc14e08c327",
   "metadata": {},
   "outputs": [
    {
     "data": {
      "text/plain": [
       "[5090003, 1272617]"
      ]
     },
     "execution_count": 44,
     "metadata": {},
     "output_type": "execute_result"
    }
   ],
   "source": [
    "[train.count(), test.count()]"
   ]
  },
  {
   "cell_type": "markdown",
   "id": "f4bb3826-f389-4ed1-bea0-dab4a663ce48",
   "metadata": {},
   "source": [
    "# Gradient-Boosted Tree Classifier"
   ]
  },
  {
   "cell_type": "code",
   "execution_count": 45,
   "id": "47a0ce57-c1fa-4e54-846f-c00b713d8016",
   "metadata": {},
   "outputs": [],
   "source": [
    "from pyspark.ml.classification import GBTClassifier\n",
    "\n",
    "# Train a GBT model.\n",
    "gbt = GBTClassifier(labelCol=\"isFraud\", featuresCol=\"features\", maxIter=10)\n",
    "\n",
    "# Train model. \n",
    "gbt_model = gbt.fit(train)"
   ]
  },
  {
   "cell_type": "code",
   "execution_count": 46,
   "id": "a767781a-8bca-4d13-8850-c6528aaf28f3",
   "metadata": {},
   "outputs": [],
   "source": [
    "# Make predictions.\n",
    "prediction_GBT = gbt_model.transform(test)"
   ]
  },
  {
   "cell_type": "code",
   "execution_count": 47,
   "id": "706a74b8-8319-4bb9-9501-d55cb8aeaf37",
   "metadata": {},
   "outputs": [
    {
     "name": "stdout",
     "output_type": "stream",
     "text": [
      "+-------+----------+-------+\n",
      "|isFraud|prediction|  count|\n",
      "+-------+----------+-------+\n",
      "|      1|       0.0|    425|\n",
      "|      0|       0.0|1270896|\n",
      "|      1|       1.0|   1178|\n",
      "|      0|       1.0|    118|\n",
      "+-------+----------+-------+\n",
      "\n"
     ]
    }
   ],
   "source": [
    "prediction_GBT.groupBy(\"isFraud\", \"prediction\").count().show()"
   ]
  },
  {
   "cell_type": "code",
   "execution_count": 48,
   "id": "1047a3d6-f68f-4e0b-8e30-b8c33a7fad68",
   "metadata": {},
   "outputs": [
    {
     "name": "stdout",
     "output_type": "stream",
     "text": [
      "Recall :  0.7348721147847785\n",
      "Precision :  0.9089506172839507\n",
      "F1 Score :  0.8126940324249742\n"
     ]
    }
   ],
   "source": [
    "tp = prediction_GBT[(prediction_GBT.isFraud == 1) & (prediction_GBT.prediction == 1)].count()\n",
    "tn = prediction_GBT[(prediction_GBT.isFraud == 0) & (prediction_GBT.prediction == 0)].count()\n",
    "fp = prediction_GBT[(prediction_GBT.isFraud == 0) & (prediction_GBT.prediction == 1)].count()\n",
    "fn = prediction_GBT[(prediction_GBT.isFraud == 1) & (prediction_GBT.prediction == 0)].count()\n",
    "recall_GBT = tp/(tp+fn)\n",
    "precision_GBT = tp/(tp+fp)\n",
    "f1_score_GBT = 2*(recall_GBT*precision_GBT)/(recall_GBT+precision_GBT)\n",
    "print(\"Recall : \",recall_GBT)\n",
    "print(\"Precision : \", precision_GBT)\n",
    "print(\"F1 Score : \", f1_score_GBT)"
   ]
  }
 ],
 "metadata": {
  "kernelspec": {
   "display_name": "Python 3 (ipykernel)",
   "language": "python",
   "name": "python3"
  },
  "language_info": {
   "codemirror_mode": {
    "name": "ipython",
    "version": 3
   },
   "file_extension": ".py",
   "mimetype": "text/x-python",
   "name": "python",
   "nbconvert_exporter": "python",
   "pygments_lexer": "ipython3",
   "version": "3.11.6"
  }
 },
 "nbformat": 4,
 "nbformat_minor": 5
}
